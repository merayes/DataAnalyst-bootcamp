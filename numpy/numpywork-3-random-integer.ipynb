{
 "cells": [
  {
   "cell_type": "markdown",
   "id": "71f34e8c",
   "metadata": {},
   "source": [
    "# Random İnteger İle Array Oluşturma"
   ]
  },
  {
   "cell_type": "code",
   "execution_count": 1,
   "id": "9317f6a9",
   "metadata": {},
   "outputs": [],
   "source": [
    "import numpy as np"
   ]
  },
  {
   "cell_type": "code",
   "execution_count": 3,
   "id": "b436a130",
   "metadata": {},
   "outputs": [
    {
     "data": {
      "text/plain": [
       "array([[6, 2, 9, 7, 5],\n",
       "       [8, 5, 8, 4, 6],\n",
       "       [1, 4, 7, 6, 5],\n",
       "       [6, 3, 7, 3, 7]])"
      ]
     },
     "execution_count": 3,
     "metadata": {},
     "output_type": "execute_result"
    }
   ],
   "source": [
    "np.random.randint(1,10,(4,5))"
   ]
  },
  {
   "cell_type": "code",
   "execution_count": 4,
   "id": "ee85938e",
   "metadata": {},
   "outputs": [
    {
     "data": {
      "text/plain": [
       "array([[[8, 1, 4, 2],\n",
       "        [3, 8, 8, 6],\n",
       "        [1, 4, 1, 2],\n",
       "        [8, 1, 8, 4]],\n",
       "\n",
       "       [[4, 4, 9, 7],\n",
       "        [1, 9, 3, 3],\n",
       "        [3, 2, 7, 8],\n",
       "        [5, 4, 9, 7]],\n",
       "\n",
       "       [[7, 6, 4, 5],\n",
       "        [1, 3, 1, 9],\n",
       "        [8, 8, 8, 9],\n",
       "        [2, 4, 3, 9]]])"
      ]
     },
     "execution_count": 4,
     "metadata": {},
     "output_type": "execute_result"
    }
   ],
   "source": [
    "np.random.randint(1,10,(3,4,4))"
   ]
  },
  {
   "cell_type": "code",
   "execution_count": 9,
   "id": "29e35012",
   "metadata": {},
   "outputs": [
    {
     "data": {
      "text/plain": [
       "1"
      ]
     },
     "execution_count": 9,
     "metadata": {},
     "output_type": "execute_result"
    }
   ],
   "source": [
    "np.random.randint(1,5)"
   ]
  },
  {
   "cell_type": "code",
   "execution_count": 12,
   "id": "b9c2cb9c",
   "metadata": {},
   "outputs": [],
   "source": [
    "d = {}\n",
    "\n",
    "for _ in range(10000):\n",
    "    val = np.random.randint(1,10)\n",
    "    \n",
    "    if val not in d:\n",
    "        d[val] = 1\n",
    "    else:\n",
    "        d[val] += 1"
   ]
  },
  {
   "cell_type": "code",
   "execution_count": 13,
   "id": "8d94de21",
   "metadata": {},
   "outputs": [
    {
     "data": {
      "text/plain": [
       "{2: 1120,\n",
       " 6: 1151,\n",
       " 3: 1124,\n",
       " 8: 1039,\n",
       " 7: 1151,\n",
       " 1: 1177,\n",
       " 9: 1093,\n",
       " 5: 1143,\n",
       " 4: 1002}"
      ]
     },
     "execution_count": 13,
     "metadata": {},
     "output_type": "execute_result"
    }
   ],
   "source": [
    "d"
   ]
  },
  {
   "cell_type": "code",
   "execution_count": null,
   "id": "74af9d35",
   "metadata": {},
   "outputs": [],
   "source": []
  }
 ],
 "metadata": {
  "kernelspec": {
   "display_name": "Python 3",
   "language": "python",
   "name": "python3"
  },
  "language_info": {
   "codemirror_mode": {
    "name": "ipython",
    "version": 3
   },
   "file_extension": ".py",
   "mimetype": "text/x-python",
   "name": "python",
   "nbconvert_exporter": "python",
   "pygments_lexer": "ipython3",
   "version": "3.8.8"
  }
 },
 "nbformat": 4,
 "nbformat_minor": 5
}
